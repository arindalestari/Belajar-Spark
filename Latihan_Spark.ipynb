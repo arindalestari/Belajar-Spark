{
  "nbformat": 4,
  "nbformat_minor": 0,
  "metadata": {
    "colab": {
      "provenance": [],
      "mount_file_id": "1rc973rWs0V468n6Qm5RLfhIHBucqIDB1",
      "authorship_tag": "ABX9TyPwYY6Yu+hvny3/nYoXpNXD",
      "include_colab_link": true
    },
    "kernelspec": {
      "name": "python3",
      "display_name": "Python 3"
    },
    "language_info": {
      "name": "python"
    }
  },
  "cells": [
    {
      "cell_type": "markdown",
      "metadata": {
        "id": "view-in-github",
        "colab_type": "text"
      },
      "source": [
        "<a href=\"https://colab.research.google.com/github/arindalestari/Belajar-Spark/blob/main/Latihan_Spark.ipynb\" target=\"_parent\"><img src=\"https://colab.research.google.com/assets/colab-badge.svg\" alt=\"Open In Colab\"/></a>"
      ]
    },
    {
      "cell_type": "markdown",
      "source": [
        "# **Pemodelan Machine Learning dengan Spark**"
      ],
      "metadata": {
        "id": "M5Lsgp4DoEZY"
      }
    },
    {
      "cell_type": "markdown",
      "source": [
        "# Masalah\n",
        "\n",
        "> Memprediksi kemungkinan kelangsungan hidup penumpang manakah yang selamat atau tidak berdasarkan status sosial ekonomi, jenis kelamin, kelas tiket, dll."
      ],
      "metadata": {
        "id": "4kOEUsBSnX45"
      }
    },
    {
      "cell_type": "markdown",
      "source": [
        "# Sumber Data\n",
        "\n",
        "> Dataset titanic merupakan Kumpulan data yang berisi informasi tentang penumpang kapal Titanic. Itu dibuat untuk menganalisis dan memahami faktor-faktor yang mempengaruhi tingkat kelangsungan hidup penumpang selama tenggelamnya RMS Titanic secara tragis pada tanggal 15 April 1912.\n",
        "\n",
        "> Dataset tersebut diperoleh dari kaggle dengan klik [here](https://www.kaggle.com/datasets/sakshisatre/titanic-dataset). Harapannya project ini dapat sedikit membantu untuk mempelajari spark.\n"
      ],
      "metadata": {
        "id": "ONsbOD73f6CW"
      }
    },
    {
      "cell_type": "markdown",
      "source": [
        "# Instalasi dan Konfigurasi\n"
      ],
      "metadata": {
        "id": "iUgwH4anj9sB"
      }
    },
    {
      "cell_type": "code",
      "execution_count": null,
      "metadata": {
        "colab": {
          "base_uri": "https://localhost:8080/"
        },
        "id": "LQl4oKhff2zF",
        "outputId": "0b40b53f-f6d0-42fa-aa93-b55de93c35e2"
      },
      "outputs": [
        {
          "output_type": "stream",
          "name": "stdout",
          "text": [
            "Collecting Pyspark\n",
            "  Using cached pyspark-3.5.1.tar.gz (317.0 MB)\n",
            "  Preparing metadata (setup.py) ... \u001b[?25l\u001b[?25hdone\n",
            "Requirement already satisfied: py4j==0.10.9.7 in /usr/local/lib/python3.10/dist-packages (from Pyspark) (0.10.9.7)\n",
            "Building wheels for collected packages: Pyspark\n",
            "  Building wheel for Pyspark (setup.py) ... \u001b[?25l\u001b[?25hdone\n",
            "  Created wheel for Pyspark: filename=pyspark-3.5.1-py2.py3-none-any.whl size=317488491 sha256=93c8f26e40f30b8f91dccdbb60a8229394db286b00598622787c854169545517\n",
            "  Stored in directory: /root/.cache/pip/wheels/80/1d/60/2c256ed38dddce2fdd93be545214a63e02fbd8d74fb0b7f3a6\n",
            "Successfully built Pyspark\n",
            "Installing collected packages: Pyspark\n",
            "Successfully installed Pyspark-3.5.1\n"
          ]
        }
      ],
      "source": [
        "# install spark\n",
        "!pip install Pyspark"
      ]
    },
    {
      "cell_type": "markdown",
      "source": [
        "# Inisialisasi Spark\n",
        "\n",
        "Inisialisasi Spark digunakan untuk pemrosesan data."
      ],
      "metadata": {
        "id": "Li3Us595l5sr"
      }
    },
    {
      "cell_type": "code",
      "source": [
        "# start spark session\n",
        "from pyspark.sql import SparkSession\n",
        "spark=SparkSession.builder.getOrCreate()\n",
        "spark"
      ],
      "metadata": {
        "colab": {
          "base_uri": "https://localhost:8080/",
          "height": 219
        },
        "id": "PpF7Bjrvjrpj",
        "outputId": "9a87c7fd-83a9-4a54-dc28-08f3720790e6"
      },
      "execution_count": null,
      "outputs": [
        {
          "output_type": "execute_result",
          "data": {
            "text/plain": [
              "<pyspark.sql.session.SparkSession at 0x7a8ab639a440>"
            ],
            "text/html": [
              "\n",
              "            <div>\n",
              "                <p><b>SparkSession - in-memory</b></p>\n",
              "                \n",
              "        <div>\n",
              "            <p><b>SparkContext</b></p>\n",
              "\n",
              "            <p><a href=\"http://221d3821b30d:4040\">Spark UI</a></p>\n",
              "\n",
              "            <dl>\n",
              "              <dt>Version</dt>\n",
              "                <dd><code>v3.5.1</code></dd>\n",
              "              <dt>Master</dt>\n",
              "                <dd><code>local[*]</code></dd>\n",
              "              <dt>AppName</dt>\n",
              "                <dd><code>pyspark-shell</code></dd>\n",
              "            </dl>\n",
              "        </div>\n",
              "        \n",
              "            </div>\n",
              "        "
            ]
          },
          "metadata": {},
          "execution_count": 4
        }
      ]
    },
    {
      "cell_type": "markdown",
      "source": [
        "# Eksplorasi Analisis Data (EDA)\n",
        "\n"
      ],
      "metadata": {
        "id": "4bW_fKCTsgSt"
      }
    },
    {
      "cell_type": "code",
      "source": [
        "# Mengimport file dari file eksternal yang sudah di download\n",
        "from google.colab import files\n",
        "\n",
        "uploaded = files.upload()"
      ],
      "metadata": {
        "colab": {
          "base_uri": "https://localhost:8080/",
          "height": 73
        },
        "id": "rce7D5tzpEVN",
        "outputId": "41dd7811-54a0-4ec6-fe10-2d490413684d"
      },
      "execution_count": null,
      "outputs": [
        {
          "output_type": "display_data",
          "data": {
            "text/plain": [
              "<IPython.core.display.HTML object>"
            ],
            "text/html": [
              "\n",
              "     <input type=\"file\" id=\"files-87ebee7c-b624-4165-bd7a-7bbc7935a23c\" name=\"files[]\" multiple disabled\n",
              "        style=\"border:none\" />\n",
              "     <output id=\"result-87ebee7c-b624-4165-bd7a-7bbc7935a23c\">\n",
              "      Upload widget is only available when the cell has been executed in the\n",
              "      current browser session. Please rerun this cell to enable.\n",
              "      </output>\n",
              "      <script>// Copyright 2017 Google LLC\n",
              "//\n",
              "// Licensed under the Apache License, Version 2.0 (the \"License\");\n",
              "// you may not use this file except in compliance with the License.\n",
              "// You may obtain a copy of the License at\n",
              "//\n",
              "//      http://www.apache.org/licenses/LICENSE-2.0\n",
              "//\n",
              "// Unless required by applicable law or agreed to in writing, software\n",
              "// distributed under the License is distributed on an \"AS IS\" BASIS,\n",
              "// WITHOUT WARRANTIES OR CONDITIONS OF ANY KIND, either express or implied.\n",
              "// See the License for the specific language governing permissions and\n",
              "// limitations under the License.\n",
              "\n",
              "/**\n",
              " * @fileoverview Helpers for google.colab Python module.\n",
              " */\n",
              "(function(scope) {\n",
              "function span(text, styleAttributes = {}) {\n",
              "  const element = document.createElement('span');\n",
              "  element.textContent = text;\n",
              "  for (const key of Object.keys(styleAttributes)) {\n",
              "    element.style[key] = styleAttributes[key];\n",
              "  }\n",
              "  return element;\n",
              "}\n",
              "\n",
              "// Max number of bytes which will be uploaded at a time.\n",
              "const MAX_PAYLOAD_SIZE = 100 * 1024;\n",
              "\n",
              "function _uploadFiles(inputId, outputId) {\n",
              "  const steps = uploadFilesStep(inputId, outputId);\n",
              "  const outputElement = document.getElementById(outputId);\n",
              "  // Cache steps on the outputElement to make it available for the next call\n",
              "  // to uploadFilesContinue from Python.\n",
              "  outputElement.steps = steps;\n",
              "\n",
              "  return _uploadFilesContinue(outputId);\n",
              "}\n",
              "\n",
              "// This is roughly an async generator (not supported in the browser yet),\n",
              "// where there are multiple asynchronous steps and the Python side is going\n",
              "// to poll for completion of each step.\n",
              "// This uses a Promise to block the python side on completion of each step,\n",
              "// then passes the result of the previous step as the input to the next step.\n",
              "function _uploadFilesContinue(outputId) {\n",
              "  const outputElement = document.getElementById(outputId);\n",
              "  const steps = outputElement.steps;\n",
              "\n",
              "  const next = steps.next(outputElement.lastPromiseValue);\n",
              "  return Promise.resolve(next.value.promise).then((value) => {\n",
              "    // Cache the last promise value to make it available to the next\n",
              "    // step of the generator.\n",
              "    outputElement.lastPromiseValue = value;\n",
              "    return next.value.response;\n",
              "  });\n",
              "}\n",
              "\n",
              "/**\n",
              " * Generator function which is called between each async step of the upload\n",
              " * process.\n",
              " * @param {string} inputId Element ID of the input file picker element.\n",
              " * @param {string} outputId Element ID of the output display.\n",
              " * @return {!Iterable<!Object>} Iterable of next steps.\n",
              " */\n",
              "function* uploadFilesStep(inputId, outputId) {\n",
              "  const inputElement = document.getElementById(inputId);\n",
              "  inputElement.disabled = false;\n",
              "\n",
              "  const outputElement = document.getElementById(outputId);\n",
              "  outputElement.innerHTML = '';\n",
              "\n",
              "  const pickedPromise = new Promise((resolve) => {\n",
              "    inputElement.addEventListener('change', (e) => {\n",
              "      resolve(e.target.files);\n",
              "    });\n",
              "  });\n",
              "\n",
              "  const cancel = document.createElement('button');\n",
              "  inputElement.parentElement.appendChild(cancel);\n",
              "  cancel.textContent = 'Cancel upload';\n",
              "  const cancelPromise = new Promise((resolve) => {\n",
              "    cancel.onclick = () => {\n",
              "      resolve(null);\n",
              "    };\n",
              "  });\n",
              "\n",
              "  // Wait for the user to pick the files.\n",
              "  const files = yield {\n",
              "    promise: Promise.race([pickedPromise, cancelPromise]),\n",
              "    response: {\n",
              "      action: 'starting',\n",
              "    }\n",
              "  };\n",
              "\n",
              "  cancel.remove();\n",
              "\n",
              "  // Disable the input element since further picks are not allowed.\n",
              "  inputElement.disabled = true;\n",
              "\n",
              "  if (!files) {\n",
              "    return {\n",
              "      response: {\n",
              "        action: 'complete',\n",
              "      }\n",
              "    };\n",
              "  }\n",
              "\n",
              "  for (const file of files) {\n",
              "    const li = document.createElement('li');\n",
              "    li.append(span(file.name, {fontWeight: 'bold'}));\n",
              "    li.append(span(\n",
              "        `(${file.type || 'n/a'}) - ${file.size} bytes, ` +\n",
              "        `last modified: ${\n",
              "            file.lastModifiedDate ? file.lastModifiedDate.toLocaleDateString() :\n",
              "                                    'n/a'} - `));\n",
              "    const percent = span('0% done');\n",
              "    li.appendChild(percent);\n",
              "\n",
              "    outputElement.appendChild(li);\n",
              "\n",
              "    const fileDataPromise = new Promise((resolve) => {\n",
              "      const reader = new FileReader();\n",
              "      reader.onload = (e) => {\n",
              "        resolve(e.target.result);\n",
              "      };\n",
              "      reader.readAsArrayBuffer(file);\n",
              "    });\n",
              "    // Wait for the data to be ready.\n",
              "    let fileData = yield {\n",
              "      promise: fileDataPromise,\n",
              "      response: {\n",
              "        action: 'continue',\n",
              "      }\n",
              "    };\n",
              "\n",
              "    // Use a chunked sending to avoid message size limits. See b/62115660.\n",
              "    let position = 0;\n",
              "    do {\n",
              "      const length = Math.min(fileData.byteLength - position, MAX_PAYLOAD_SIZE);\n",
              "      const chunk = new Uint8Array(fileData, position, length);\n",
              "      position += length;\n",
              "\n",
              "      const base64 = btoa(String.fromCharCode.apply(null, chunk));\n",
              "      yield {\n",
              "        response: {\n",
              "          action: 'append',\n",
              "          file: file.name,\n",
              "          data: base64,\n",
              "        },\n",
              "      };\n",
              "\n",
              "      let percentDone = fileData.byteLength === 0 ?\n",
              "          100 :\n",
              "          Math.round((position / fileData.byteLength) * 100);\n",
              "      percent.textContent = `${percentDone}% done`;\n",
              "\n",
              "    } while (position < fileData.byteLength);\n",
              "  }\n",
              "\n",
              "  // All done.\n",
              "  yield {\n",
              "    response: {\n",
              "      action: 'complete',\n",
              "    }\n",
              "  };\n",
              "}\n",
              "\n",
              "scope.google = scope.google || {};\n",
              "scope.google.colab = scope.google.colab || {};\n",
              "scope.google.colab._files = {\n",
              "  _uploadFiles,\n",
              "  _uploadFilesContinue,\n",
              "};\n",
              "})(self);\n",
              "</script> "
            ]
          },
          "metadata": {}
        },
        {
          "output_type": "stream",
          "name": "stdout",
          "text": [
            "Saving Titanic Dataset.csv to Titanic Dataset.csv\n"
          ]
        }
      ]
    },
    {
      "cell_type": "code",
      "source": [
        "# Read titanic dataset\n",
        "df = spark.read.csv(\"/content/Titanic Dataset.csv\", header=True, inferSchema=True)\n",
        "\n",
        "# Menampilkan 5 baris pertama dari DataFrame\n",
        "df.show(5)"
      ],
      "metadata": {
        "colab": {
          "base_uri": "https://localhost:8080/"
        },
        "id": "rMKplb-lup8z",
        "outputId": "d596dccf-9fee-4c81-cab2-b4e5d4e324fc"
      },
      "execution_count": null,
      "outputs": [
        {
          "output_type": "stream",
          "name": "stdout",
          "text": [
            "+------+--------+--------------------+------+----+-----+-----+------+--------+-------+--------+----+----+--------------------+\n",
            "|pclass|survived|                name|   sex| age|sibsp|parch|ticket|    fare|  cabin|embarked|boat|body|           home.dest|\n",
            "+------+--------+--------------------+------+----+-----+-----+------+--------+-------+--------+----+----+--------------------+\n",
            "|     1|       1|Allen, Miss. Elis...|female|29.0|    0|    0| 24160|211.3375|     B5|       S|   2|NULL|        St Louis, MO|\n",
            "|     1|       1|Allison, Master. ...|  male|0.92|    1|    2|113781|  151.55|C22 C26|       S|  11|NULL|Montreal, PQ / Ch...|\n",
            "|     1|       0|Allison, Miss. He...|female| 2.0|    1|    2|113781|  151.55|C22 C26|       S|NULL|NULL|Montreal, PQ / Ch...|\n",
            "|     1|       0|Allison, Mr. Huds...|  male|30.0|    1|    2|113781|  151.55|C22 C26|       S|NULL| 135|Montreal, PQ / Ch...|\n",
            "|     1|       0|Allison, Mrs. Hud...|female|25.0|    1|    2|113781|  151.55|C22 C26|       S|NULL|NULL|Montreal, PQ / Ch...|\n",
            "+------+--------+--------------------+------+----+-----+-----+------+--------+-------+--------+----+----+--------------------+\n",
            "only showing top 5 rows\n",
            "\n"
          ]
        }
      ]
    },
    {
      "cell_type": "markdown",
      "source": [
        "> Informasi Variabel\n",
        "\n",
        "1. Pclass: Kelas tiket yang menunjukkan status sosial ekonomi penumpang. Dikategorikan menjadi tiga kelas: 1 = Atas, 2 = Tengah, 3 = Bawah.\n",
        "\n",
        "2. Survived: Indikator biner yang menunjukkan apakah penumpang selamat (1) atau tidak (0) selama bencana Titanic. Ini adalah variabel target untuk analisis.\n",
        "\n",
        "3. Name: Nama lengkap penumpang, termasuk gelar (misalnya Tuan (Mr.), Nyonya(Mrs.), dll.).\n",
        "\n",
        "4. Sex: Jenis kelamin penumpang, yang dinyatakan sebagai laki-laki atau perempuan.\n",
        "\n",
        "5. Age: Usia penumpang dalam tahun.\n",
        "\n",
        "6. SibSp: Jumlah saudara kandung atau pasangan di kapal Titanic untuk masing-masing penumpang.\n",
        "\n",
        "7. Parch: Jumlah orang tua atau anak di kapal Titanic untuk masing-masing penumpang.\n",
        "\n",
        "8. Ticket: Nomor tiket yang diberikan kepada penumpang.\n",
        "\n",
        "9. Fare: Tarif yang dibayarkan oleh penumpang untuk tiket.\n",
        "\n",
        "10. Cabin: Nomor kabin yang diberikan kepada penumpang, jika tersedia.\n",
        "\n",
        "11. Embarked: Pelabuhan pemberangkatan penumpang. Ini dapat mengambil salah satu dari tiga nilai: C = Cherbourg, Q = Queenstown, S = Southampton.\n",
        "\n",
        "12. Boat: Jika penumpang selamat, kolom ini berisi identitas sekoci tempat mereka diselamatkan.\n",
        "\n",
        "13. Body: Jika penumpang tidak selamat, kolom ini berisi nomor identifikasi jenazah yang ditemukan, jika ada.\n",
        "\n",
        "14. Home.dest : Tujuan atau tempat tinggal penumpang."
      ],
      "metadata": {
        "id": "8vyktkLisqwc"
      }
    },
    {
      "cell_type": "code",
      "source": [
        "# Menghitung jumlah baris dan kolom pada dataset\n",
        "row = df.count()\n",
        "column = len(df.columns)\n",
        "\n",
        "print(f\"Total baris:{row}\", f\"Total kolom:{column}\")"
      ],
      "metadata": {
        "colab": {
          "base_uri": "https://localhost:8080/"
        },
        "id": "oge2hEPLwW59",
        "outputId": "2d75f708-2557-40aa-e3da-dd1b26520e74"
      },
      "execution_count": null,
      "outputs": [
        {
          "output_type": "stream",
          "name": "stdout",
          "text": [
            "Total baris:1309 Total kolom:14\n"
          ]
        }
      ]
    },
    {
      "cell_type": "markdown",
      "source": [
        "Dalam Titanic Dataset.csv tersebut, terdapat 14 kolom dan 1309 baris."
      ],
      "metadata": {
        "id": "62kGmmj4yGbG"
      }
    },
    {
      "cell_type": "code",
      "source": [
        "# Melihat jenis data\n",
        "\n",
        "df.printSchema()"
      ],
      "metadata": {
        "colab": {
          "base_uri": "https://localhost:8080/"
        },
        "id": "ztnMQKbWybI-",
        "outputId": "b7889096-8dc6-486d-afba-241a06fad77a"
      },
      "execution_count": null,
      "outputs": [
        {
          "output_type": "stream",
          "name": "stdout",
          "text": [
            "root\n",
            " |-- pclass: integer (nullable = true)\n",
            " |-- survived: integer (nullable = true)\n",
            " |-- name: string (nullable = true)\n",
            " |-- sex: string (nullable = true)\n",
            " |-- age: double (nullable = true)\n",
            " |-- sibsp: integer (nullable = true)\n",
            " |-- parch: integer (nullable = true)\n",
            " |-- ticket: string (nullable = true)\n",
            " |-- fare: double (nullable = true)\n",
            " |-- cabin: string (nullable = true)\n",
            " |-- embarked: string (nullable = true)\n",
            " |-- boat: string (nullable = true)\n",
            " |-- body: integer (nullable = true)\n",
            " |-- home.dest: string (nullable = true)\n",
            "\n"
          ]
        }
      ]
    },
    {
      "cell_type": "markdown",
      "source": [
        "> Terdapat 5 tipe data integer, 7 string, dan 2 double. String adalah tipe data yang digunakan untuk menyimpan data teks bisa berupa kata, kalimat, atau teks. Integer adalah tipe data yang digunakan untuk menyimpan angka bilangan bulat berupa positif atau negatif. Double adalah tipe data yang digunakan untuk menyimpan data angka dengan titik desimal (floating-point numbers)."
      ],
      "metadata": {
        "id": "cteP9s2b2Igb"
      }
    },
    {
      "cell_type": "markdown",
      "source": [
        "# Data Cleaning\n",
        "\n",
        "> count and when digunakan untuk menghitung jumlah missing value (null atau NaN) di setiap kolom.\n",
        "\n"
      ],
      "metadata": {
        "id": "5k75KhaDygEy"
      }
    },
    {
      "cell_type": "code",
      "source": [
        "df.na.fill('0').show()\n"
      ],
      "metadata": {
        "colab": {
          "base_uri": "https://localhost:8080/"
        },
        "id": "Mu6z2fI17kov",
        "outputId": "0ad6bc35-3dc1-4071-ef69-27b6084e1841"
      },
      "execution_count": null,
      "outputs": [
        {
          "output_type": "stream",
          "name": "stdout",
          "text": [
            "+------+--------+--------------------+------+----+-----+-----+--------+--------+-------+--------+----+----+--------------------+\n",
            "|pclass|survived|                name|   sex| age|sibsp|parch|  ticket|    fare|  cabin|embarked|boat|body|           home.dest|\n",
            "+------+--------+--------------------+------+----+-----+-----+--------+--------+-------+--------+----+----+--------------------+\n",
            "|     1|       1|Allen, Miss. Elis...|female|29.0|    0|    0|   24160|211.3375|     B5|       S|   2|NULL|        St Louis, MO|\n",
            "|     1|       1|Allison, Master. ...|  male|0.92|    1|    2|  113781|  151.55|C22 C26|       S|  11|NULL|Montreal, PQ / Ch...|\n",
            "|     1|       0|Allison, Miss. He...|female| 2.0|    1|    2|  113781|  151.55|C22 C26|       S|   0|NULL|Montreal, PQ / Ch...|\n",
            "|     1|       0|Allison, Mr. Huds...|  male|30.0|    1|    2|  113781|  151.55|C22 C26|       S|   0| 135|Montreal, PQ / Ch...|\n",
            "|     1|       0|Allison, Mrs. Hud...|female|25.0|    1|    2|  113781|  151.55|C22 C26|       S|   0|NULL|Montreal, PQ / Ch...|\n",
            "|     1|       1| Anderson, Mr. Harry|  male|48.0|    0|    0|   19952|   26.55|    E12|       S|   3|NULL|        New York, NY|\n",
            "|     1|       1|Andrews, Miss. Ko...|female|63.0|    1|    0|   13502| 77.9583|     D7|       S|  10|NULL|          Hudson, NY|\n",
            "|     1|       0|Andrews, Mr. Thom...|  male|39.0|    0|    0|  112050|     0.0|    A36|       S|   0|NULL|         Belfast, NI|\n",
            "|     1|       1|Appleton, Mrs. Ed...|female|53.0|    2|    0|   11769| 51.4792|   C101|       S|   D|NULL| Bayside, Queens, NY|\n",
            "|     1|       0|Artagaveytia, Mr....|  male|71.0|    0|    0|PC 17609| 49.5042|      0|       C|   0|  22| Montevideo, Uruguay|\n",
            "|     1|       0|Astor, Col. John ...|  male|47.0|    1|    0|PC 17757| 227.525|C62 C64|       C|   0| 124|        New York, NY|\n",
            "|     1|       1|Astor, Mrs. John ...|female|18.0|    1|    0|PC 17757| 227.525|C62 C64|       C|   4|NULL|        New York, NY|\n",
            "|     1|       1|Aubart, Mme. Leon...|female|24.0|    0|    0|PC 17477|    69.3|    B35|       C|   9|NULL|       Paris, France|\n",
            "|     1|       1|\"Barber, Miss. El...|female|26.0|    0|    0|   19877|   78.85|      0|       S|   6|NULL|                   0|\n",
            "|     1|       1|Barkworth, Mr. Al...|  male|80.0|    0|    0|   27042|    30.0|    A23|       S|   B|NULL|       Hessle, Yorks|\n",
            "|     1|       0| Baumann, Mr. John D|  male|NULL|    0|    0|PC 17318|  25.925|      0|       S|   0|NULL|        New York, NY|\n",
            "|     1|       0|Baxter, Mr. Quigg...|  male|24.0|    0|    1|PC 17558|247.5208|B58 B60|       C|   0|NULL|        Montreal, PQ|\n",
            "|     1|       1|Baxter, Mrs. Jame...|female|50.0|    0|    1|PC 17558|247.5208|B58 B60|       C|   6|NULL|        Montreal, PQ|\n",
            "|     1|       1|Bazzani, Miss. Al...|female|32.0|    0|    0|   11813| 76.2917|    D15|       C|   8|NULL|                   0|\n",
            "|     1|       0|Beattie, Mr. Thomson|  male|36.0|    0|    0|   13050| 75.2417|     C6|       C|   A|NULL|        Winnipeg, MN|\n",
            "+------+--------+--------------------+------+----+-----+-----+--------+--------+-------+--------+----+----+--------------------+\n",
            "only showing top 20 rows\n",
            "\n"
          ]
        }
      ]
    },
    {
      "cell_type": "markdown",
      "source": [
        "> Kegunaan fungsi describe() pada DataFrame untuk menghasilkan statistik deskriptif untuk kolom numerik sehingga tipe data yang didukung seperti integer, float atau double. Oleh karena itu, dipilihlah tipe data yang sesuai seperti sintaks berikut."
      ],
      "metadata": {
        "id": "zEoDv4gLJe3Q"
      }
    },
    {
      "cell_type": "code",
      "source": [
        "column_types = {col_name: col_type for col_name, col_type in df.dtypes}\n",
        "column_types\n"
      ],
      "metadata": {
        "colab": {
          "base_uri": "https://localhost:8080/"
        },
        "id": "HwX254LUHOQE",
        "outputId": "3af54c5c-c5c2-41b9-d4d8-67e0326e6ee4"
      },
      "execution_count": null,
      "outputs": [
        {
          "output_type": "execute_result",
          "data": {
            "text/plain": [
              "{'pclass': 'int',\n",
              " 'survived': 'int',\n",
              " 'name': 'string',\n",
              " 'sex': 'string',\n",
              " 'age': 'double',\n",
              " 'sibsp': 'int',\n",
              " 'parch': 'int',\n",
              " 'ticket': 'string',\n",
              " 'fare': 'double',\n",
              " 'cabin': 'string',\n",
              " 'embarked': 'string',\n",
              " 'boat': 'string',\n",
              " 'body': 'int',\n",
              " 'home.dest': 'string'}"
            ]
          },
          "metadata": {},
          "execution_count": 33
        }
      ]
    },
    {
      "cell_type": "code",
      "source": [
        "selected_columns = [col_name for col_name, col_type in column_types.items() if col_type in ['int', 'double']]\n",
        "selected_columns"
      ],
      "metadata": {
        "colab": {
          "base_uri": "https://localhost:8080/"
        },
        "id": "958Zm234INaq",
        "outputId": "b1774d91-158b-4c5e-afea-daa024e77ba7"
      },
      "execution_count": null,
      "outputs": [
        {
          "output_type": "execute_result",
          "data": {
            "text/plain": [
              "['pclass', 'survived', 'age', 'sibsp', 'parch', 'fare', 'body']"
            ]
          },
          "metadata": {},
          "execution_count": 12
        }
      ]
    },
    {
      "cell_type": "code",
      "source": [
        "df2 = df.select(*selected_columns)\n",
        "df2.printSchema()"
      ],
      "metadata": {
        "colab": {
          "base_uri": "https://localhost:8080/"
        },
        "id": "Fu_hZgSXJBVa",
        "outputId": "dbc6bb41-8fb2-4c10-df6d-e41dda43179a"
      },
      "execution_count": null,
      "outputs": [
        {
          "output_type": "stream",
          "name": "stdout",
          "text": [
            "root\n",
            " |-- pclass: integer (nullable = true)\n",
            " |-- survived: integer (nullable = true)\n",
            " |-- age: double (nullable = true)\n",
            " |-- sibsp: integer (nullable = true)\n",
            " |-- parch: integer (nullable = true)\n",
            " |-- fare: double (nullable = true)\n",
            " |-- body: integer (nullable = true)\n",
            "\n"
          ]
        }
      ]
    },
    {
      "cell_type": "markdown",
      "source": [
        "# Statistika Deskriptif"
      ],
      "metadata": {
        "id": "x_SzKH015Lzc"
      }
    },
    {
      "cell_type": "code",
      "source": [
        "summary = df2.describe().show()\n",
        "summary"
      ],
      "metadata": {
        "colab": {
          "base_uri": "https://localhost:8080/"
        },
        "id": "xU4FevrH5Q2p",
        "outputId": "e99778a3-0d25-43b2-cb2c-e0bc4fff6dba"
      },
      "execution_count": null,
      "outputs": [
        {
          "output_type": "stream",
          "name": "stdout",
          "text": [
            "+-------+------------------+-------------------+------------------+------------------+------------------+-----------------+-----------------+\n",
            "|summary|            pclass|           survived|               age|             sibsp|             parch|             fare|             body|\n",
            "+-------+------------------+-------------------+------------------+------------------+------------------+-----------------+-----------------+\n",
            "|  count|              1309|               1309|              1046|              1309|              1309|             1308|              121|\n",
            "|   mean| 2.294881588999236| 0.3819709702062643|29.881137667304014|0.4988540870893812|0.3850267379679144|33.29547928134572|160.8099173553719|\n",
            "| stddev|0.8378360189701272|0.48605517086648325| 14.41349321127133|1.0416583905961012|0.8655602753495143|51.75866823917421|97.69692199600308|\n",
            "|    min|                 1|                  0|              0.17|                 0|                 0|              0.0|                1|\n",
            "|    max|                 3|                  1|              80.0|                 8|                 9|         512.3292|              328|\n",
            "+-------+------------------+-------------------+------------------+------------------+------------------+-----------------+-----------------+\n",
            "\n"
          ]
        }
      ]
    },
    {
      "cell_type": "markdown",
      "source": [
        "> Dari tabel diatas dapat disimpulkan bahwa orang yang berada di kejadian kapal titanic rata-rata umur 30 tahun dengan minimal umur penumpang 17 tahun dan maksimal umur penumpang 80 tahun. Maksimal penumpang dengan membawa keluarganya 9 orang dengan tarif yang dibayarkan penumpang untuk mendapatkan tiket rata-rata sebesar 33.2 p (mata uang inggris)."
      ],
      "metadata": {
        "id": "fP9JSUhMLJBK"
      }
    },
    {
      "cell_type": "markdown",
      "source": [
        "# Visualisasi Data"
      ],
      "metadata": {
        "id": "g-rj924rPRxa"
      }
    },
    {
      "cell_type": "code",
      "source": [
        "import matplotlib.pyplot as plt\n",
        "import seaborn as sns\n",
        "\n",
        "# Mengubah Dataframe pyspark ke pandas untuk menggunakan seaborn\n",
        "pandas_df = df.select(\"sex\", \"survived\").toPandas()\n"
      ],
      "metadata": {
        "id": "-ob0ZORMOtn_"
      },
      "execution_count": null,
      "outputs": []
    },
    {
      "cell_type": "code",
      "source": [
        "# Melihat seberapa banyak penumpang berdasarkan gender\n",
        "pandas_df[\"sex\"].value_counts().plot(kind=\"bar\", color=[\"salmon\", \"lightblue\"]);\n"
      ],
      "metadata": {
        "colab": {
          "base_uri": "https://localhost:8080/",
          "height": 483
        },
        "id": "_QRsKv0DQogz",
        "outputId": "d1ea8cb7-a70a-4d6c-b9cf-a68bb8447acd"
      },
      "execution_count": null,
      "outputs": [
        {
          "output_type": "display_data",
          "data": {
            "text/plain": [
              "<Figure size 640x480 with 1 Axes>"
            ],
            "image/png": "[encoded data removed]"
          },
          "metadata": {}
        }
      ]
    },
    {
      "cell_type": "markdown",
      "source": [
        "Pada diagram batang diatas, menunjukan bahwa kebanyakan penumpang kapal titanic terbanyak berjenis kelamin laki-laki."
      ],
      "metadata": {
        "id": "uQiceNXJSQAy"
      }
    },
    {
      "cell_type": "code",
      "source": [
        "import pandas as pd\n",
        "\n",
        "# Membandingkan kolom jenis kelamin dan penumpang yang selamat\n",
        "pd.crosstab(pandas_df.survived, pandas_df.sex)"
      ],
      "metadata": {
        "colab": {
          "base_uri": "https://localhost:8080/",
          "height": 143
        },
        "id": "sP2IJxurROWv",
        "outputId": "2e11c150-83ab-4623-c66d-19d245f6bd99"
      },
      "execution_count": null,
      "outputs": [
        {
          "output_type": "execute_result",
          "data": {
            "text/plain": [
              "sex       female  male\n",
              "survived              \n",
              "0            127   682\n",
              "1            339   161"
            ],
            "text/html": [
              "\n",
              "  <div id=\"df-2ffcf760-d9cf-4f64-a328-cfcd0ccefde5\" class=\"colab-df-container\">\n",
              "    <div>\n",
              "<style scoped>\n",
              "    .dataframe tbody tr th:only-of-type {\n",
              "        vertical-align: middle;\n",
              "    }\n",
              "\n",
              "    .dataframe tbody tr th {\n",
              "        vertical-align: top;\n",
              "    }\n",
              "\n",
              "    .dataframe thead th {\n",
              "        text-align: right;\n",
              "    }\n",
              "</style>\n",
              "<table border=\"1\" class=\"dataframe\">\n",
              "  <thead>\n",
              "    <tr style=\"text-align: right;\">\n",
              "      <th>sex</th>\n",
              "      <th>female</th>\n",
              "      <th>male</th>\n",
              "    </tr>\n",
              "    <tr>\n",
              "      <th>survived</th>\n",
              "      <th></th>\n",
              "      <th></th>\n",
              "    </tr>\n",
              "  </thead>\n",
              "  <tbody>\n",
              "    <tr>\n",
              "      <th>0</th>\n",
              "      <td>127</td>\n",
              "      <td>682</td>\n",
              "    </tr>\n",
              "    <tr>\n",
              "      <th>1</th>\n",
              "      <td>339</td>\n",
              "      <td>161</td>\n",
              "    </tr>\n",
              "  </tbody>\n",
              "</table>\n",
              "</div>\n",
              "    <div class=\"colab-df-buttons\">\n",
              "\n",
              "  <div class=\"colab-df-container\">\n",
              "    <button class=\"colab-df-convert\" onclick=\"convertToInteractive('df-2ffcf760-d9cf-4f64-a328-cfcd0ccefde5')\"\n",
              "            title=\"Convert this dataframe to an interactive table.\"\n",
              "            style=\"display:none;\">\n",
              "\n",
              "  <svg xmlns=\"http://www.w3.org/2000/svg\" height=\"24px\" viewBox=\"0 -960 960 960\">\n",
              "    <path d=\"M120-120v-720h720v720H120Zm60-500h600v-160H180v160Zm220 220h160v-160H400v160Zm0 220h160v-160H400v160ZM180-400h160v-160H180v160Zm440 0h160v-160H620v160ZM180-180h160v-160H180v160Zm440 0h160v-160H620v160Z\"/>\n",
              "  </svg>\n",
              "    </button>\n",
              "\n",
              "  <style>\n",
              "    .colab-df-container {\n",
              "      display:flex;\n",
              "      gap: 12px;\n",
              "    }\n",
              "\n",
              "    .colab-df-convert {\n",
              "      background-color: #E8F0FE;\n",
              "      border: none;\n",
              "      border-radius: 50%;\n",
              "      cursor: pointer;\n",
              "      display: none;\n",
              "      fill: #1967D2;\n",
              "      height: 32px;\n",
              "      padding: 0 0 0 0;\n",
              "      width: 32px;\n",
              "    }\n",
              "\n",
              "    .colab-df-convert:hover {\n",
              "      background-color: #E2EBFA;\n",
              "      box-shadow: 0px 1px 2px rgba(60, 64, 67, 0.3), 0px 1px 3px 1px rgba(60, 64, 67, 0.15);\n",
              "      fill: #174EA6;\n",
              "    }\n",
              "\n",
              "    .colab-df-buttons div {\n",
              "      margin-bottom: 4px;\n",
              "    }\n",
              "\n",
              "    [theme=dark] .colab-df-convert {\n",
              "      background-color: #3B4455;\n",
              "      fill: #D2E3FC;\n",
              "    }\n",
              "\n",
              "    [theme=dark] .colab-df-convert:hover {\n",
              "      background-color: #434B5C;\n",
              "      box-shadow: 0px 1px 3px 1px rgba(0, 0, 0, 0.15);\n",
              "      filter: drop-shadow(0px 1px 2px rgba(0, 0, 0, 0.3));\n",
              "      fill: #FFFFFF;\n",
              "    }\n",
              "  </style>\n",
              "\n",
              "    <script>\n",
              "      const buttonEl =\n",
              "        document.querySelector('#df-2ffcf760-d9cf-4f64-a328-cfcd0ccefde5 button.colab-df-convert');\n",
              "      buttonEl.style.display =\n",
              "        google.colab.kernel.accessAllowed ? 'block' : 'none';\n",
              "\n",
              "      async function convertToInteractive(key) {\n",
              "        const element = document.querySelector('#df-2ffcf760-d9cf-4f64-a328-cfcd0ccefde5');\n",
              "        const dataTable =\n",
              "          await google.colab.kernel.invokeFunction('convertToInteractive',\n",
              "                                                    [key], {});\n",
              "        if (!dataTable) return;\n",
              "\n",
              "        const docLinkHtml = 'Like what you see? Visit the ' +\n",
              "          '<a target=\"_blank\" href=https://colab.research.google.com/notebooks/data_table.ipynb>data table notebook</a>'\n",
              "          + ' to learn more about interactive tables.';\n",
              "        element.innerHTML = '';\n",
              "        dataTable['output_type'] = 'display_data';\n",
              "        await google.colab.output.renderOutput(dataTable, element);\n",
              "        const docLink = document.createElement('div');\n",
              "        docLink.innerHTML = docLinkHtml;\n",
              "        element.appendChild(docLink);\n",
              "      }\n",
              "    </script>\n",
              "  </div>\n",
              "\n",
              "\n",
              "<div id=\"df-44e43339-a9f8-42e4-867c-a8bc43135f13\">\n",
              "  <button class=\"colab-df-quickchart\" onclick=\"quickchart('df-44e43339-a9f8-42e4-867c-a8bc43135f13')\"\n",
              "            title=\"Suggest charts\"\n",
              "            style=\"display:none;\">\n",
              "\n",
              "<svg xmlns=\"http://www.w3.org/2000/svg\" height=\"24px\"viewBox=\"0 0 24 24\"\n",
              "     width=\"24px\">\n",
              "    <g>\n",
              "        <path d=\"M19 3H5c-1.1 0-2 .9-2 2v14c0 1.1.9 2 2 2h14c1.1 0 2-.9 2-2V5c0-1.1-.9-2-2-2zM9 17H7v-7h2v7zm4 0h-2V7h2v10zm4 0h-2v-4h2v4z\"/>\n",
              "    </g>\n",
              "</svg>\n",
              "  </button>\n",
              "\n",
              "<style>\n",
              "  .colab-df-quickchart {\n",
              "      --bg-color: #E8F0FE;\n",
              "      --fill-color: #1967D2;\n",
              "      --hover-bg-color: #E2EBFA;\n",
              "      --hover-fill-color: #174EA6;\n",
              "      --disabled-fill-color: #AAA;\n",
              "      --disabled-bg-color: #DDD;\n",
              "  }\n",
              "\n",
              "  [theme=dark] .colab-df-quickchart {\n",
              "      --bg-color: #3B4455;\n",
              "      --fill-color: #D2E3FC;\n",
              "      --hover-bg-color: #434B5C;\n",
              "      --hover-fill-color: #FFFFFF;\n",
              "      --disabled-bg-color: #3B4455;\n",
              "      --disabled-fill-color: #666;\n",
              "  }\n",
              "\n",
              "  .colab-df-quickchart {\n",
              "    background-color: var(--bg-color);\n",
              "    border: none;\n",
              "    border-radius: 50%;\n",
              "    cursor: pointer;\n",
              "    display: none;\n",
              "    fill: var(--fill-color);\n",
              "    height: 32px;\n",
              "    padding: 0;\n",
              "    width: 32px;\n",
              "  }\n",
              "\n",
              "  .colab-df-quickchart:hover {\n",
              "    background-color: var(--hover-bg-color);\n",
              "    box-shadow: 0 1px 2px rgba(60, 64, 67, 0.3), 0 1px 3px 1px rgba(60, 64, 67, 0.15);\n",
              "    fill: var(--button-hover-fill-color);\n",
              "  }\n",
              "\n",
              "  .colab-df-quickchart-complete:disabled,\n",
              "  .colab-df-quickchart-complete:disabled:hover {\n",
              "    background-color: var(--disabled-bg-color);\n",
              "    fill: var(--disabled-fill-color);\n",
              "    box-shadow: none;\n",
              "  }\n",
              "\n",
              "  .colab-df-spinner {\n",
              "    border: 2px solid var(--fill-color);\n",
              "    border-color: transparent;\n",
              "    border-bottom-color: var(--fill-color);\n",
              "    animation:\n",
              "      spin 1s steps(1) infinite;\n",
              "  }\n",
              "\n",
              "  @keyframes spin {\n",
              "    0% {\n",
              "      border-color: transparent;\n",
              "      border-bottom-color: var(--fill-color);\n",
              "      border-left-color: var(--fill-color);\n",
              "    }\n",
              "    20% {\n",
              "      border-color: transparent;\n",
              "      border-left-color: var(--fill-color);\n",
              "      border-top-color: var(--fill-color);\n",
              "    }\n",
              "    30% {\n",
              "      border-color: transparent;\n",
              "      border-left-color: var(--fill-color);\n",
              "      border-top-color: var(--fill-color);\n",
              "      border-right-color: var(--fill-color);\n",
              "    }\n",
              "    40% {\n",
              "      border-color: transparent;\n",
              "      border-right-color: var(--fill-color);\n",
              "      border-top-color: var(--fill-color);\n",
              "    }\n",
              "    60% {\n",
              "      border-color: transparent;\n",
              "      border-right-color: var(--fill-color);\n",
              "    }\n",
              "    80% {\n",
              "      border-color: transparent;\n",
              "      border-right-color: var(--fill-color);\n",
              "      border-bottom-color: var(--fill-color);\n",
              "    }\n",
              "    90% {\n",
              "      border-color: transparent;\n",
              "      border-bottom-color: var(--fill-color);\n",
              "    }\n",
              "  }\n",
              "</style>\n",
              "\n",
              "  <script>\n",
              "    async function quickchart(key) {\n",
              "      const quickchartButtonEl =\n",
              "        document.querySelector('#' + key + ' button');\n",
              "      quickchartButtonEl.disabled = true;  // To prevent multiple clicks.\n",
              "      quickchartButtonEl.classList.add('colab-df-spinner');\n",
              "      try {\n",
              "        const charts = await google.colab.kernel.invokeFunction(\n",
              "            'suggestCharts', [key], {});\n",
              "      } catch (error) {\n",
              "        console.error('Error during call to suggestCharts:', error);\n",
              "      }\n",
              "      quickchartButtonEl.classList.remove('colab-df-spinner');\n",
              "      quickchartButtonEl.classList.add('colab-df-quickchart-complete');\n",
              "    }\n",
              "    (() => {\n",
              "      let quickchartButtonEl =\n",
              "        document.querySelector('#df-44e43339-a9f8-42e4-867c-a8bc43135f13 button');\n",
              "      quickchartButtonEl.style.display =\n",
              "        google.colab.kernel.accessAllowed ? 'block' : 'none';\n",
              "    })();\n",
              "  </script>\n",
              "</div>\n",
              "    </div>\n",
              "  </div>\n"
            ],
            "application/vnd.google.colaboratory.intrinsic+json": {
              "type": "dataframe",
              "summary": "{\n  \"name\": \"pd\",\n  \"rows\": 2,\n  \"fields\": [\n    {\n      \"column\": \"survived\",\n      \"properties\": {\n        \"dtype\": \"int32\",\n        \"num_unique_values\": 2,\n        \"samples\": [\n          1,\n          0\n        ],\n        \"semantic_type\": \"\",\n        \"description\": \"\"\n      }\n    },\n    {\n      \"column\": \"female\",\n      \"properties\": {\n        \"dtype\": \"number\",\n        \"std\": 149,\n        \"min\": 127,\n        \"max\": 339,\n        \"num_unique_values\": 2,\n        \"samples\": [\n          339,\n          127\n        ],\n        \"semantic_type\": \"\",\n        \"description\": \"\"\n      }\n    },\n    {\n      \"column\": \"male\",\n      \"properties\": {\n        \"dtype\": \"number\",\n        \"std\": 368,\n        \"min\": 161,\n        \"max\": 682,\n        \"num_unique_values\": 2,\n        \"samples\": [\n          161,\n          682\n        ],\n        \"semantic_type\": \"\",\n        \"description\": \"\"\n      }\n    }\n  ]\n}"
            }
          },
          "metadata": {},
          "execution_count": 38
        }
      ]
    },
    {
      "cell_type": "markdown",
      "source": [
        "> Berdasarkan tabel diatas, yang dinyatakan selamat dari tragedi titanic dengan jenis kelamin perempuan sebanyak 339 orang, laki-laki yang selamat sebanyak 161 orang. Sisanya dinyatakan tidak selamat untuk laki-laki sebesar 682 orang dan perempuan sebanyak 127 orang."
      ],
      "metadata": {
        "id": "H9cYKuZESi-e"
      }
    },
    {
      "cell_type": "markdown",
      "source": [
        "Berikut adalah visualisasi frekuensi Penumpang Selamat Berdasarkan Jenis Kelamin dengan sintaks berikut."
      ],
      "metadata": {
        "id": "UD2U137NUKFA"
      }
    },
    {
      "cell_type": "code",
      "source": [
        "# Membuat crosstab\n",
        "pd.crosstab(pandas_df.survived, pandas_df.sex).plot(kind=\"bar\",\n",
        "                                    figsize=(10, 6),\n",
        "                                    color=[\"salmon\", \"lightblue\"])\n",
        "plt.title(\"Frekuensi Penumpang Selamat Berdasarkan Jenis Kelamin\")\n",
        "plt.xlabel(\"0 = Not survived, 1 = Survived\")\n",
        "plt.ylabel(\"Jumlah\")\n",
        "plt.legend([\"Female\", \"Male\"]);\n",
        "plt.xticks(rotation=0);"
      ],
      "metadata": {
        "colab": {
          "base_uri": "https://localhost:8080/",
          "height": 564
        },
        "id": "2JVl7jMRTiEF",
        "outputId": "52001a33-3b21-4e46-b039-a4833bd0df03"
      },
      "execution_count": null,
      "outputs": [
        {
          "output_type": "display_data",
          "data": {
            "text/plain": [
              "<Figure size 1000x600 with 1 Axes>"
            ],
            "image/png": "[encoded data removed]"
          },
          "metadata": {}
        }
      ]
    },
    {
      "cell_type": "markdown",
      "source": [
        "# Pemodelan\n",
        "\n"
      ],
      "metadata": {
        "id": "yW1_r-w-VQ12"
      }
    },
    {
      "cell_type": "markdown",
      "source": [
        "> Fitur (feature) dalam konteks machine learning adalah variabel atau atribut yang digunakan untuk membuat prediksi atau pengklasifikasian. Misalnya fitur - fitur seperti kelas penumpang (pclass), umur (age), biaya tiket (fare) akan digunakan oleh model untuk memprediksi apakah seorang penumpang selamat atau tidak."
      ],
      "metadata": {
        "id": "rjie32JztehL"
      }
    },
    {
      "cell_type": "code",
      "source": [
        "# Memilih kolom-kolom fitur\n",
        "feature_columns = [\"pclass\", \"age\", \"fare\", \"sibsp\"]\n",
        "\n",
        "# Menghapus baris yang memiliki nilai null di kolom fitur\n",
        "df_titanic_cleaned = df.na.drop(subset=feature_columns)\n",
        "\n",
        "# Menampilkan beberapa baris pertama dari DataFrame yang telah dibersihkan\n",
        "df_titanic_cleaned.show(5)\n"
      ],
      "metadata": {
        "colab": {
          "base_uri": "https://localhost:8080/"
        },
        "id": "EQsrfxVSU3uG",
        "outputId": "0603270b-103c-4470-ae43-419e4116b46b"
      },
      "execution_count": null,
      "outputs": [
        {
          "output_type": "stream",
          "name": "stdout",
          "text": [
            "+------+--------+--------------------+------+----+-----+-----+------+--------+-------+--------+----+----+--------------------+\n",
            "|pclass|survived|                name|   sex| age|sibsp|parch|ticket|    fare|  cabin|embarked|boat|body|           home.dest|\n",
            "+------+--------+--------------------+------+----+-----+-----+------+--------+-------+--------+----+----+--------------------+\n",
            "|     1|       1|Allen, Miss. Elis...|female|29.0|    0|    0| 24160|211.3375|     B5|       S|   2|NULL|        St Louis, MO|\n",
            "|     1|       1|Allison, Master. ...|  male|0.92|    1|    2|113781|  151.55|C22 C26|       S|  11|NULL|Montreal, PQ / Ch...|\n",
            "|     1|       0|Allison, Miss. He...|female| 2.0|    1|    2|113781|  151.55|C22 C26|       S|NULL|NULL|Montreal, PQ / Ch...|\n",
            "|     1|       0|Allison, Mr. Huds...|  male|30.0|    1|    2|113781|  151.55|C22 C26|       S|NULL| 135|Montreal, PQ / Ch...|\n",
            "|     1|       0|Allison, Mrs. Hud...|female|25.0|    1|    2|113781|  151.55|C22 C26|       S|NULL|NULL|Montreal, PQ / Ch...|\n",
            "+------+--------+--------------------+------+----+-----+-----+------+--------+-------+--------+----+----+--------------------+\n",
            "only showing top 5 rows\n",
            "\n"
          ]
        }
      ]
    },
    {
      "cell_type": "markdown",
      "source": [
        "> Dalam Pyspark, untuk mendefinidikan kolom fitur menggunakan VectorAssembler untuk menggabungkan fitur - fitur menjadi 1 vektor fitur yang akan digunakan oleh model."
      ],
      "metadata": {
        "id": "GY7v6l0AulNV"
      }
    },
    {
      "cell_type": "code",
      "source": [
        "from pyspark.ml.feature import VectorAssembler\n",
        "\n",
        "# Inisialisasi VectorAssembler\n",
        "vector_assembler = VectorAssembler(inputCols=feature_columns, outputCol=\"features\")\n",
        "\n",
        "# Transformasikan DataFrame dengan VectorAssembler\n",
        "df_titanic_vector = vector_assembler.transform(df_titanic_cleaned)\n",
        "\n",
        "# Menampilkan beberapa baris pertama dari DataFrame yang telah di-transformasi\n",
        "df_titanic_vector.select(\"features\", *feature_columns).show(5, truncate=False)\n"
      ],
      "metadata": {
        "colab": {
          "base_uri": "https://localhost:8080/"
        },
        "id": "D-1ia2uCUhDX",
        "outputId": "d5b95946-5c40-4cf3-ca01-a6aa88ce9bdb"
      },
      "execution_count": null,
      "outputs": [
        {
          "output_type": "stream",
          "name": "stdout",
          "text": [
            "+-----------------------+------+----+--------+-----+\n",
            "|features               |pclass|age |fare    |sibsp|\n",
            "+-----------------------+------+----+--------+-----+\n",
            "|[1.0,29.0,211.3375,0.0]|1     |29.0|211.3375|0    |\n",
            "|[1.0,0.92,151.55,1.0]  |1     |0.92|151.55  |1    |\n",
            "|[1.0,2.0,151.55,1.0]   |1     |2.0 |151.55  |1    |\n",
            "|[1.0,30.0,151.55,1.0]  |1     |30.0|151.55  |1    |\n",
            "|[1.0,25.0,151.55,1.0]  |1     |25.0|151.55  |1    |\n",
            "+-----------------------+------+----+--------+-----+\n",
            "only showing top 5 rows\n",
            "\n"
          ]
        }
      ]
    },
    {
      "cell_type": "markdown",
      "source": [
        "> Kode dibawah berikut bertujuan untuk membuat DataFrame baru yang hanya berisi 2 kolom yang dipilih yaitu kolom fitur (Features) dan kolom (survived), kemudian ditampilkan untuk dianalisis lebih lanjut."
      ],
      "metadata": {
        "id": "UQ9cnny0vhN_"
      }
    },
    {
      "cell_type": "code",
      "source": [
        "modeldata = df_titanic_vector.select('features', 'survived')\n",
        "modeldata.show()"
      ],
      "metadata": {
        "colab": {
          "base_uri": "https://localhost:8080/"
        },
        "id": "ZVYtMeh7ZtT6",
        "outputId": "2965a8eb-f81b-4119-ad79-013e2e54125b"
      },
      "execution_count": null,
      "outputs": [
        {
          "output_type": "stream",
          "name": "stdout",
          "text": [
            "+--------------------+--------+\n",
            "|            features|survived|\n",
            "+--------------------+--------+\n",
            "|[1.0,29.0,211.337...|       1|\n",
            "|[1.0,0.92,151.55,...|       1|\n",
            "|[1.0,2.0,151.55,1.0]|       0|\n",
            "|[1.0,30.0,151.55,...|       0|\n",
            "|[1.0,25.0,151.55,...|       0|\n",
            "|[1.0,48.0,26.55,0.0]|       1|\n",
            "|[1.0,63.0,77.9583...|       1|\n",
            "|  [1.0,39.0,0.0,0.0]|       0|\n",
            "|[1.0,53.0,51.4792...|       1|\n",
            "|[1.0,71.0,49.5042...|       0|\n",
            "|[1.0,47.0,227.525...|       0|\n",
            "|[1.0,18.0,227.525...|       1|\n",
            "| [1.0,24.0,69.3,0.0]|       1|\n",
            "|[1.0,26.0,78.85,0.0]|       1|\n",
            "| [1.0,80.0,30.0,0.0]|       1|\n",
            "|[1.0,24.0,247.520...|       0|\n",
            "|[1.0,50.0,247.520...|       1|\n",
            "|[1.0,32.0,76.2917...|       1|\n",
            "|[1.0,36.0,75.2417...|       0|\n",
            "|[1.0,37.0,52.5542...|       1|\n",
            "+--------------------+--------+\n",
            "only showing top 20 rows\n",
            "\n"
          ]
        }
      ]
    },
    {
      "cell_type": "markdown",
      "source": [
        "> Melatih model machine learning, diperlukan split data untuk menguji kinerja model secara lebih obyektif."
      ],
      "metadata": {
        "id": "P4b9CN8LwD_A"
      }
    },
    {
      "cell_type": "code",
      "source": [
        "# split data 80% train 20% test\n",
        "train_data,test_data= modeldata.randomSplit([0.8,0.2], seed=42)\n",
        "train_data.show()"
      ],
      "metadata": {
        "colab": {
          "base_uri": "https://localhost:8080/"
        },
        "id": "rW3EWZwMT57o",
        "outputId": "3012eec2-f27e-4de4-98d0-5ee864369d93"
      },
      "execution_count": null,
      "outputs": [
        {
          "output_type": "stream",
          "name": "stdout",
          "text": [
            "+--------------------+--------+\n",
            "|            features|survived|\n",
            "+--------------------+--------+\n",
            "|[1.0,0.92,151.55,...|       1|\n",
            "|[1.0,2.0,151.55,1.0]|       0|\n",
            "| [1.0,6.0,134.5,0.0]|       1|\n",
            "|[1.0,11.0,120.0,1.0]|       1|\n",
            "|[1.0,13.0,262.375...|       1|\n",
            "|[1.0,15.0,211.337...|       1|\n",
            "|[1.0,16.0,57.9792...|       1|\n",
            "| [1.0,16.0,86.5,0.0]|       1|\n",
            "| [1.0,17.0,47.1,0.0]|       0|\n",
            "| [1.0,17.0,57.0,1.0]|       1|\n",
            "|[1.0,17.0,110.883...|       1|\n",
            "| [1.0,18.0,53.1,1.0]|       1|\n",
            "| [1.0,18.0,60.0,1.0]|       1|\n",
            "|[1.0,18.0,79.65,0.0]|       1|\n",
            "|[1.0,18.0,108.9,1.0]|       0|\n",
            "|[1.0,18.0,262.375...|       1|\n",
            "|[1.0,19.0,26.2833...|       1|\n",
            "| [1.0,19.0,30.0,0.0]|       1|\n",
            "|[1.0,19.0,91.0792...|       1|\n",
            "|[1.0,19.0,263.0,3.0]|       0|\n",
            "+--------------------+--------+\n",
            "only showing top 20 rows\n",
            "\n"
          ]
        }
      ]
    },
    {
      "cell_type": "markdown",
      "source": [
        "## Naive Bayes ##"
      ],
      "metadata": {
        "id": "945yYGZKwn7b"
      }
    },
    {
      "cell_type": "code",
      "source": [
        "# naive bayes model\n",
        "from pyspark.ml.classification import NaiveBayes"
      ],
      "metadata": {
        "id": "7O1GcfuBbSHi"
      },
      "execution_count": null,
      "outputs": []
    },
    {
      "cell_type": "code",
      "source": [
        "nb = NaiveBayes(featuresCol='features', labelCol='survived')"
      ],
      "metadata": {
        "id": "Y52lJOsLbUzZ"
      },
      "execution_count": null,
      "outputs": []
    },
    {
      "cell_type": "code",
      "source": [
        "nb=nb.fit(train_data)"
      ],
      "metadata": {
        "id": "a2aFsW-nbao9"
      },
      "execution_count": null,
      "outputs": []
    },
    {
      "cell_type": "code",
      "source": [
        "# prediction\n",
        "y_pred = nb.transform(test_data)\n",
        "y_pred.show()"
      ],
      "metadata": {
        "colab": {
          "base_uri": "https://localhost:8080/"
        },
        "id": "ssY6hGM5beN-",
        "outputId": "e291d7ac-8ad2-4306-8902-6bc928f1e00c"
      },
      "execution_count": null,
      "outputs": [
        {
          "output_type": "stream",
          "name": "stdout",
          "text": [
            "+--------------------+--------+--------------------+--------------------+----------+\n",
            "|            features|survived|       rawPrediction|         probability|prediction|\n",
            "+--------------------+--------+--------------------+--------------------+----------+\n",
            "|[1.0,4.0,81.8583,...|       1|[-73.787877074647...|[1.70444375321975...|       1.0|\n",
            "|[1.0,14.0,120.0,1.0]|       1|[-116.65376893002...|[2.60722816411926...|       1.0|\n",
            "| [1.0,16.0,39.4,0.0]|       1|[-46.872130881817...|[0.00156374569382...|       1.0|\n",
            "|[1.0,17.0,108.9,1.0]|       1|[-109.52533906596...|[2.99801113261934...|       1.0|\n",
            "|[1.0,18.0,227.525...|       1|[-207.81978312192...|[3.67060009523341...|       1.0|\n",
            "| [1.0,19.0,53.1,1.0]|       0|[-64.940995040925...|[6.51501343105676...|       1.0|\n",
            "|[1.0,21.0,77.9583...|       1|[-81.949048399202...|[2.63180092726332...|       1.0|\n",
            "| [1.0,22.0,66.6,1.0]|       1|[-78.057784458796...|[2.16460247340829...|       1.0|\n",
            "| [1.0,24.0,60.0,1.0]|       0|[-73.963878997616...|[3.9267654464979E...|       1.0|\n",
            "| [1.0,24.0,69.3,0.0]|       1|[-76.830079995334...|[1.34777571026791...|       1.0|\n",
            "| [1.0,24.0,69.3,0.0]|       1|[-76.830079995334...|[1.34777571026791...|       1.0|\n",
            "|[1.0,24.0,82.2667...|       1|[-92.288847460418...|[2.45768794215925...|       1.0|\n",
            "|[1.0,24.0,247.520...|       0|[-223.50159123926...|[3.08226918240637...|       1.0|\n",
            "|[1.0,25.0,55.4417...|       1|[-70.881375070992...|[2.53694330235567...|       1.0|\n",
            "| [1.0,27.0,52.0,1.0]|       1|[-69.386675953638...|[0.00161437873215...|       1.0|\n",
            "| [1.0,28.0,35.5,0.0]|       1|[-51.688955365345...|[0.28979163538193...|       1.0|\n",
            "|[1.0,29.0,221.779...|       1|[-205.66120894746...|[9.2288619427543E...|       1.0|\n",
            "|[1.0,33.0,26.55,0.0]|       0|[-47.667663483883...|[0.97912250955995...|       0.0|\n",
            "|[1.0,35.0,83.475,...|       1|[-100.64081288703...|[8.25815170345560...|       1.0|\n",
            "|[1.0,35.0,512.329...|       1|[-448.79021630971...|[1.23282505927733...|       1.0|\n",
            "+--------------------+--------+--------------------+--------------------+----------+\n",
            "only showing top 20 rows\n",
            "\n"
          ]
        }
      ]
    },
    {
      "cell_type": "markdown",
      "source": [
        "> Perintah groupBy('survived', 'prediction'), digunakan untuk mengelompokan data berdasarkan kolom *survived* sebagai label aktual dan *prediction* sebagai tabel prediksi model, dan *count* sebagai jumlah kemunculan setiap kombinasi label aktual dan prediksi model."
      ],
      "metadata": {
        "id": "jHYkbkpmxKgi"
      }
    },
    {
      "cell_type": "code",
      "source": [
        "# confusion matrix\n",
        "y_pred.groupBy('survived', 'prediction').count().show()"
      ],
      "metadata": {
        "colab": {
          "base_uri": "https://localhost:8080/"
        },
        "id": "1-eeo9oLbpZe",
        "outputId": "b251fb57-877d-4caf-9562-8adbbcd394e2"
      },
      "execution_count": null,
      "outputs": [
        {
          "output_type": "stream",
          "name": "stdout",
          "text": [
            "+--------+----------+-----+\n",
            "|survived|prediction|count|\n",
            "+--------+----------+-----+\n",
            "|       1|       0.0|   34|\n",
            "|       0|       0.0|   89|\n",
            "|       1|       1.0|   34|\n",
            "|       0|       1.0|   18|\n",
            "+--------+----------+-----+\n",
            "\n"
          ]
        }
      ]
    },
    {
      "cell_type": "code",
      "source": [
        "from sklearn.metrics import confusion_matrix\n",
        "pred=y_pred.select(\"prediction\").collect()\n",
        "orig=y_pred.select(\"survived\").collect()\n",
        "print(confusion_matrix(orig, pred))"
      ],
      "metadata": {
        "colab": {
          "base_uri": "https://localhost:8080/"
        },
        "id": "Cwsc7EMib2PB",
        "outputId": "10801f7f-c61d-4ef2-c8f0-cc16875f1384"
      },
      "execution_count": null,
      "outputs": [
        {
          "output_type": "stream",
          "name": "stdout",
          "text": [
            "[[89 18]\n",
            " [34 34]]\n"
          ]
        }
      ]
    },
    {
      "cell_type": "markdown",
      "source": [
        ">Dalam konteks data Titanic, confusion matrix akan memberikan gambaran tentang seberapa baik model kamu dalam memprediksi apakah seorang penumpang selamat atau tidak selamat.\n",
        "\n",
        "> Confusion matrix memiliki:\n",
        "\n",
        "1. True Positive (TP): Jumlah penumpang yang sebenarnya selamat dan diprediksi selamat dengan benar terdapat 89.\n",
        "2. True Negative (TN): Jumlah penumpang yang sebenarnya tidak selamat dan diprediksi tidak selamat dengan benar terdapat 34.\n",
        "3. False Positive (FP): Jumlah penumpang yang sebenarnya tidak selamat, tetapi diprediksi selamat (kesalahan prediksi positif palsu) terdapat 34.\n",
        "4. False Negative (FN): Jumlah penumpang yang sebenarnya selamat, tetapi diprediksi tidak selamat (kesalahan prediksi negatif palsu) terdapat 18.\n",
        "\n",
        "> Untuk penjelasan mengenai tabel konfusi matriks dapat dilihat pada\n",
        "[link ini](https://towardsdatascience.com/understanding-confusion-matrix-a9ad42dcfd62)"
      ],
      "metadata": {
        "id": "mnBFOMNfydYj"
      }
    },
    {
      "cell_type": "markdown",
      "source": [
        "# Evaluasi Model"
      ],
      "metadata": {
        "id": "RtSLKZ87b-Pb"
      }
    },
    {
      "cell_type": "markdown",
      "source": [
        "> Metode evaluasi model digunakan untuk mengukur seberapa baik kinerja model yang telah dibangun."
      ],
      "metadata": {
        "id": "6ywOOlAq1zd_"
      }
    },
    {
      "cell_type": "code",
      "source": [
        "# evaluation\n",
        "from pyspark.ml.evaluation import MulticlassClassificationEvaluator"
      ],
      "metadata": {
        "id": "WtbDqkbab-ue"
      },
      "execution_count": null,
      "outputs": []
    },
    {
      "cell_type": "code",
      "source": [
        "eval= MulticlassClassificationEvaluator(\n",
        "    labelCol='survived', predictionCol='prediction')"
      ],
      "metadata": {
        "id": "z5PldqXEcGWb"
      },
      "execution_count": null,
      "outputs": []
    },
    {
      "cell_type": "code",
      "source": [
        "akurasi = eval.evaluate(y_pred)\n",
        "akurasi"
      ],
      "metadata": {
        "colab": {
          "base_uri": "https://localhost:8080/"
        },
        "id": "7LjG96JJcOgx",
        "outputId": "6835fffd-9131-4826-8a7d-f7af89863e9b"
      },
      "execution_count": null,
      "outputs": [
        {
          "output_type": "execute_result",
          "data": {
            "text/plain": [
              "0.6933830227743272"
            ]
          },
          "metadata": {},
          "execution_count": 120
        }
      ]
    },
    {
      "cell_type": "markdown",
      "source": [
        "Hasil evaluasi dengan naive bayes didapatkan 0,69 dari data uji. Dengan kata lain, dari semua penumpang yang dievaluasi model berhasil memprediksi 69% secara benar."
      ],
      "metadata": {
        "id": "FncT8vLN2k-C"
      }
    },
    {
      "cell_type": "markdown",
      "source": [
        "## Decision Tree ##"
      ],
      "metadata": {
        "id": "agA6a0CInhX3"
      }
    },
    {
      "cell_type": "code",
      "source": [
        "from pyspark.ml.classification import DecisionTreeClassifier\n",
        "dt = DecisionTreeClassifier(labelCol='survived', featuresCol='features')\n",
        "dt_model = dt.fit(train_data)\n",
        "dt_model\n"
      ],
      "metadata": {
        "colab": {
          "base_uri": "https://localhost:8080/"
        },
        "id": "K9CVjnUOf7m2",
        "outputId": "3171d1ae-7a1f-4c45-f36b-846264574ddd"
      },
      "execution_count": null,
      "outputs": [
        {
          "output_type": "execute_result",
          "data": {
            "text/plain": [
              "DecisionTreeClassificationModel: uid=DecisionTreeClassifier_a5824dbab337, depth=5, numNodes=39, numClasses=2, numFeatures=4"
            ]
          },
          "metadata": {},
          "execution_count": 124
        }
      ]
    },
    {
      "cell_type": "code",
      "source": [
        "predict_dt = dt_model.transform(test_data)\n",
        "predict_dt\n"
      ],
      "metadata": {
        "colab": {
          "base_uri": "https://localhost:8080/"
        },
        "id": "Wun8oYaohTEC",
        "outputId": "a0f949f2-0331-40ac-8c42-b8f8d174b7e5"
      },
      "execution_count": null,
      "outputs": [
        {
          "output_type": "execute_result",
          "data": {
            "text/plain": [
              "DataFrame[features: vector, survived: int, rawPrediction: vector, probability: vector, prediction: double]"
            ]
          },
          "metadata": {},
          "execution_count": 125
        }
      ]
    },
    {
      "cell_type": "code",
      "source": [
        "from pyspark.ml.evaluation import MulticlassClassificationEvaluator\n",
        "ev = MulticlassClassificationEvaluator(labelCol=\"survived\")"
      ],
      "metadata": {
        "id": "SibzrlU4hlQi"
      },
      "execution_count": null,
      "outputs": []
    },
    {
      "cell_type": "code",
      "source": [
        "akurasi_dt = ev.evaluate(predict_dt)\n",
        "akurasi_dt"
      ],
      "metadata": {
        "colab": {
          "base_uri": "https://localhost:8080/"
        },
        "id": "jAsGphsMiwA1",
        "outputId": "a310f8c7-4f58-4f1e-e0ca-6eefb552ace8"
      },
      "execution_count": null,
      "outputs": [
        {
          "output_type": "execute_result",
          "data": {
            "text/plain": [
              "0.6849001451576558"
            ]
          },
          "metadata": {},
          "execution_count": 139
        }
      ]
    },
    {
      "cell_type": "markdown",
      "source": [
        "Hasil evaluasi dengan decision tree didapatkan 0,68 dari data uji. Dengan kata lain, dari semua penumpang yang dievaluasi model berhasil memprediksi 68% secara benar."
      ],
      "metadata": {
        "id": "-CDjzAfK3VVE"
      }
    }
  ]
}